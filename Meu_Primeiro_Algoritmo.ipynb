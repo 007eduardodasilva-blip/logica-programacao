{
  "nbformat": 4,
  "nbformat_minor": 0,
  "metadata": {
    "colab": {
      "provenance": []
    },
    "kernelspec": {
      "name": "python3",
      "display_name": "Python 3"
    },
    "language_info": {
      "name": "python"
    }
  },
  "cells": [
    {
      "cell_type": "markdown",
      "source": [
        "\n",
        "#Operadores Aritméticos\n"
      ],
      "metadata": {
        "id": "mPwqTgTFHK3Z"
      }
    },
    {
      "cell_type": "code",
      "execution_count": null,
      "metadata": {
        "colab": {
          "base_uri": "https://localhost:8080/"
        },
        "id": "axqwdnz4GnRv",
        "outputId": "2d401572-33c4-4d23-cc5a-9282025a6a07"
      },
      "outputs": [
        {
          "output_type": "execute_result",
          "data": {
            "text/plain": [
              "12"
            ]
          },
          "metadata": {},
          "execution_count": 4
        }
      ],
      "source": [
        "#Adição\n",
        "10 + 2"
      ]
    },
    {
      "cell_type": "code",
      "source": [
        "#Subtração\n",
        "10 - 2"
      ],
      "metadata": {
        "colab": {
          "base_uri": "https://localhost:8080/"
        },
        "id": "0k3F29sDHo_V",
        "outputId": "a41fd3c6-f04a-49fd-ca7a-2e320d4f6a84"
      },
      "execution_count": null,
      "outputs": [
        {
          "output_type": "execute_result",
          "data": {
            "text/plain": [
              "8"
            ]
          },
          "metadata": {},
          "execution_count": 3
        }
      ]
    },
    {
      "cell_type": "code",
      "source": [
        "#Multiplicação\n",
        "10 * 2"
      ],
      "metadata": {
        "colab": {
          "base_uri": "https://localhost:8080/"
        },
        "id": "ss-KokbuS1It",
        "outputId": "99346e49-b6cf-4f82-e02f-44cbcfd61aa1"
      },
      "execution_count": null,
      "outputs": [
        {
          "output_type": "execute_result",
          "data": {
            "text/plain": [
              "20"
            ]
          },
          "metadata": {},
          "execution_count": 72
        }
      ]
    },
    {
      "cell_type": "code",
      "source": [
        "#Divisão\n",
        "10 / 2"
      ],
      "metadata": {
        "colab": {
          "base_uri": "https://localhost:8080/"
        },
        "id": "QJAXSbAWHp0m",
        "outputId": "3b9d719d-8b59-45f6-8db3-b6d33113ac94"
      },
      "execution_count": null,
      "outputs": [
        {
          "output_type": "execute_result",
          "data": {
            "text/plain": [
              "5.0"
            ]
          },
          "metadata": {},
          "execution_count": 6
        }
      ]
    },
    {
      "cell_type": "code",
      "source": [
        "#Divisão inteira\n",
        "10 // 2"
      ],
      "metadata": {
        "colab": {
          "base_uri": "https://localhost:8080/"
        },
        "id": "axQXD3T5HpS9",
        "outputId": "2d04c2da-50c8-4aca-c263-189d999cec20"
      },
      "execution_count": null,
      "outputs": [
        {
          "output_type": "execute_result",
          "data": {
            "text/plain": [
              "5"
            ]
          },
          "metadata": {},
          "execution_count": 5
        }
      ]
    },
    {
      "cell_type": "code",
      "source": [
        "#Resto da divisão\n",
        "10 % 2"
      ],
      "metadata": {
        "colab": {
          "base_uri": "https://localhost:8080/"
        },
        "id": "4LTsuq_6SWvi",
        "outputId": "0853da42-486c-4cab-c108-f8d7a4f0e25c"
      },
      "execution_count": null,
      "outputs": [
        {
          "output_type": "execute_result",
          "data": {
            "text/plain": [
              "0"
            ]
          },
          "metadata": {},
          "execution_count": 17
        }
      ]
    },
    {
      "cell_type": "code",
      "source": [
        "#Ptenciação\n",
        "10 ** 2"
      ],
      "metadata": {
        "colab": {
          "base_uri": "https://localhost:8080/"
        },
        "id": "T6cOky5LSnvf",
        "outputId": "d1633923-bec1-4ceb-fabd-1a3667e80be5"
      },
      "execution_count": null,
      "outputs": [
        {
          "output_type": "execute_result",
          "data": {
            "text/plain": [
              "100"
            ]
          },
          "metadata": {},
          "execution_count": 18
        }
      ]
    },
    {
      "cell_type": "markdown",
      "source": [
        "##Operadores Relacionasis"
      ],
      "metadata": {
        "id": "Yn8azOcITADd"
      }
    },
    {
      "cell_type": "code",
      "source": [
        "#Menor\n",
        "10 < 2"
      ],
      "metadata": {
        "colab": {
          "base_uri": "https://localhost:8080/"
        },
        "id": "CGNz2o4ES_Q3",
        "outputId": "b28932a8-42e1-484b-eb2a-8c528d00aa9e"
      },
      "execution_count": null,
      "outputs": [
        {
          "output_type": "execute_result",
          "data": {
            "text/plain": [
              "False"
            ]
          },
          "metadata": {},
          "execution_count": 8
        }
      ]
    },
    {
      "cell_type": "code",
      "source": [
        "#Menor ou iqual\n",
        "10 <= 2"
      ],
      "metadata": {
        "colab": {
          "base_uri": "https://localhost:8080/"
        },
        "id": "2COmZLCSTSFz",
        "outputId": "84b27064-8a46-4786-ce06-169f7a63c265"
      },
      "execution_count": null,
      "outputs": [
        {
          "output_type": "execute_result",
          "data": {
            "text/plain": [
              "False"
            ]
          },
          "metadata": {},
          "execution_count": 9
        }
      ]
    },
    {
      "cell_type": "code",
      "source": [
        "#Maior\n",
        "10 > 2"
      ],
      "metadata": {
        "colab": {
          "base_uri": "https://localhost:8080/"
        },
        "id": "fsgGq0k2TbbR",
        "outputId": "782de67d-f7d7-4924-fff6-442022c450d4"
      },
      "execution_count": null,
      "outputs": [
        {
          "output_type": "execute_result",
          "data": {
            "text/plain": [
              "True"
            ]
          },
          "metadata": {},
          "execution_count": 10
        }
      ]
    },
    {
      "cell_type": "code",
      "source": [
        "#Maior ou iqual\n",
        "10 >= 2"
      ],
      "metadata": {
        "colab": {
          "base_uri": "https://localhost:8080/"
        },
        "id": "4evB4mP8Tlnu",
        "outputId": "9dbe796c-e2a9-43ca-d4c2-1a69e4fca3e9"
      },
      "execution_count": null,
      "outputs": [
        {
          "output_type": "execute_result",
          "data": {
            "text/plain": [
              "True"
            ]
          },
          "metadata": {},
          "execution_count": 80
        }
      ]
    },
    {
      "cell_type": "code",
      "source": [
        "#Igual\n",
        "7 == 7"
      ],
      "metadata": {
        "colab": {
          "base_uri": "https://localhost:8080/"
        },
        "id": "CFG_uXJwTzGd",
        "outputId": "8a96dc81-6667-4e5f-d325-f69d71b4b1ec"
      },
      "execution_count": null,
      "outputs": [
        {
          "output_type": "execute_result",
          "data": {
            "text/plain": [
              "True"
            ]
          },
          "metadata": {},
          "execution_count": 11
        }
      ]
    },
    {
      "cell_type": "code",
      "source": [
        "#Diferente\n",
        "7 != 7"
      ],
      "metadata": {
        "colab": {
          "base_uri": "https://localhost:8080/"
        },
        "id": "xbDKdt2hT9bl",
        "outputId": "c88ebbf6-ad30-4f62-e267-db81da1277df"
      },
      "execution_count": null,
      "outputs": [
        {
          "output_type": "execute_result",
          "data": {
            "text/plain": [
              "False"
            ]
          },
          "metadata": {},
          "execution_count": 12
        }
      ]
    },
    {
      "cell_type": "markdown",
      "source": [
        "#Operadores Lógicos\n",
        "\n",
        "\n",
        "*   And\n",
        "*   Or\n",
        "*   Not\n",
        "\n",
        "#Tabele Verdade\n",
        "And\n",
        "\n",
        "\n",
        "\n"
      ],
      "metadata": {
        "id": "Tlku5IyWUQwS"
      }
    },
    {
      "cell_type": "code",
      "source": [
        "print(10 > 2 and 4 < 6) #V and V -V\n",
        "print(10 > 2 and 4 > 6) #V and F -F\n",
        "print(10 < 2 and 4 < 6) #V and F -F\n",
        "print(10 < 2 and 4 > 6) #F and F -F"
      ],
      "metadata": {
        "colab": {
          "base_uri": "https://localhost:8080/"
        },
        "id": "XZSqfkr0UOus",
        "outputId": "11778cc1-08af-46cd-a3ac-1d279e166cc6"
      },
      "execution_count": null,
      "outputs": [
        {
          "output_type": "stream",
          "name": "stdout",
          "text": [
            "True\n",
            "False\n",
            "False\n",
            "False\n"
          ]
        }
      ]
    },
    {
      "cell_type": "markdown",
      "source": [
        "Or"
      ],
      "metadata": {
        "id": "eB5LFQ9SWn-J"
      }
    },
    {
      "cell_type": "code",
      "source": [
        "print(10 > 2 or 4 < 6) #V and V -V\n",
        "print(10 > 2 or 4 > 6) #V and F -v\n",
        "print(10 < 2 or 4 < 6) #V and F -v\n",
        "print(10 < 2 or 4 > 6) #F and F -F\n"
      ],
      "metadata": {
        "colab": {
          "base_uri": "https://localhost:8080/"
        },
        "id": "2nr-o_FyWOaP",
        "outputId": "ab9ac1dc-ba1d-4269-a6f8-239f186d2148"
      },
      "execution_count": null,
      "outputs": [
        {
          "output_type": "stream",
          "name": "stdout",
          "text": [
            "True\n",
            "True\n",
            "True\n",
            "False\n"
          ]
        }
      ]
    },
    {
      "cell_type": "markdown",
      "source": [
        "Not"
      ],
      "metadata": {
        "id": "nv70iLmtWsl-"
      }
    },
    {
      "cell_type": "code",
      "source": [
        "not 10 > 2   # V - F"
      ],
      "metadata": {
        "colab": {
          "base_uri": "https://localhost:8080/"
        },
        "id": "Hb9he4ldWkpP",
        "outputId": "0296966c-2e67-4103-ec48-be0e10193d02"
      },
      "execution_count": null,
      "outputs": [
        {
          "output_type": "execute_result",
          "data": {
            "text/plain": [
              "False"
            ]
          },
          "metadata": {},
          "execution_count": 16
        }
      ]
    },
    {
      "cell_type": "code",
      "source": [
        "not 10 < 2   # F - V"
      ],
      "metadata": {
        "colab": {
          "base_uri": "https://localhost:8080/"
        },
        "id": "O64QRNDcW6eR",
        "outputId": "d2eff147-5824-4eae-c5b1-40160a3a9f4b"
      },
      "execution_count": null,
      "outputs": [
        {
          "output_type": "execute_result",
          "data": {
            "text/plain": [
              "True"
            ]
          },
          "metadata": {},
          "execution_count": 18
        }
      ]
    },
    {
      "cell_type": "markdown",
      "source": [
        "#Variáveis\n",
        "\n",
        "variáveis Estão alocadas em espaços na memória"
      ],
      "metadata": {
        "id": "hwMf43xXXCtM"
      }
    },
    {
      "cell_type": "code",
      "source": [
        "# Nome da Variável é \"X\" que armazena o valor em um  espaço na memória\n",
        "x = 8\n",
        "print(x) # Utilizar a referencia no nome atribuido"
      ],
      "metadata": {
        "colab": {
          "base_uri": "https://localhost:8080/"
        },
        "id": "h6PT6OH6YQ5X",
        "outputId": "6af5e602-ca25-4b46-f895-c650e998187f"
      },
      "execution_count": null,
      "outputs": [
        {
          "output_type": "stream",
          "name": "stdout",
          "text": [
            "8\n"
          ]
        }
      ]
    },
    {
      "cell_type": "code",
      "source": [
        "print(\"Conhecendo o  Camando Print\")"
      ],
      "metadata": {
        "colab": {
          "base_uri": "https://localhost:8080/"
        },
        "id": "50n4_gQxd71y",
        "outputId": "39d61f15-4f2a-41a4-d539-352f8ded6025"
      },
      "execution_count": null,
      "outputs": [
        {
          "output_type": "stream",
          "name": "stdout",
          "text": [
            "Conhecendo o  Camando Print\n"
          ]
        }
      ]
    },
    {
      "cell_type": "code",
      "source": [
        "y = 10\n",
        "soma = x + y\n",
        "print(soma)"
      ],
      "metadata": {
        "id": "x5Ec5Wp1d6N6",
        "colab": {
          "base_uri": "https://localhost:8080/"
        },
        "outputId": "2705d2ec-350a-422a-e2a3-8d8575e84f67"
      },
      "execution_count": null,
      "outputs": [
        {
          "output_type": "stream",
          "name": "stdout",
          "text": [
            "18\n"
          ]
        }
      ]
    },
    {
      "cell_type": "code",
      "source": [
        "nome = \"Felipe Eduardo\"\n",
        "print(nome)"
      ],
      "metadata": {
        "colab": {
          "base_uri": "https://localhost:8080/"
        },
        "id": "N-qQ4ErjICwI",
        "outputId": "e15e1889-6bee-47fe-a8f0-ef3d0ba07dcb"
      },
      "execution_count": null,
      "outputs": [
        {
          "output_type": "stream",
          "name": "stdout",
          "text": [
            "Felipe Eduardo\n"
          ]
        }
      ]
    },
    {
      "cell_type": "markdown",
      "source": [
        "Concatenção"
      ],
      "metadata": {
        "id": "vCfEP8s9ISHE"
      }
    },
    {
      "cell_type": "code",
      "source": [
        "X = 5\n",
        "print(\"O valor de x é \" ,X)"
      ],
      "metadata": {
        "colab": {
          "base_uri": "https://localhost:8080/"
        },
        "id": "zrKe5gd3IQQp",
        "outputId": "6e057168-775c-4023-bcf5-be274e78f4db"
      },
      "execution_count": null,
      "outputs": [
        {
          "output_type": "stream",
          "name": "stdout",
          "text": [
            "O valor de x é  5\n"
          ]
        }
      ]
    },
    {
      "cell_type": "code",
      "source": [
        "print(\"Eu,\",nome, \"tirei\",x,\"na prova de Python\")"
      ],
      "metadata": {
        "colab": {
          "base_uri": "https://localhost:8080/"
        },
        "id": "A7YML9JHJKKZ",
        "outputId": "58e39228-7260-413f-ee69-231d5e1837e6"
      },
      "execution_count": null,
      "outputs": [
        {
          "output_type": "stream",
          "name": "stdout",
          "text": [
            "Eu, Felipe Eduardo tirei 8 na prova de Python\n"
          ]
        }
      ]
    },
    {
      "cell_type": "code",
      "source": [
        "y = 10; z = 20 + x - y\n",
        "print(\"Declarar várias variáveis na mesma linha:\",y,z)"
      ],
      "metadata": {
        "colab": {
          "base_uri": "https://localhost:8080/"
        },
        "id": "LDh9AeIIJqug",
        "outputId": "cb6afc00-48ea-4356-f4f0-06fd4ceb9ee2"
      },
      "execution_count": null,
      "outputs": [
        {
          "output_type": "stream",
          "name": "stdout",
          "text": [
            "Declarar várias variáveis na mesma linha: 10 18\n"
          ]
        }
      ]
    },
    {
      "cell_type": "markdown",
      "source": [
        "Type"
      ],
      "metadata": {
        "id": "Z8w3olcUOLtO"
      }
    },
    {
      "cell_type": "code",
      "source": [
        "X = 10\n",
        "type(x)\n",
        "print(\"x\",type(x))\n",
        "\n",
        "nome = \"Felipe\"\n",
        "print(\"nome\", type(nome))\n",
        "\n",
        "num = \"100\"\n",
        "num_convert = int(num) # converter variável\n",
        "print(\"num\", type(num))\n",
        "print (\"num_conver\",type(num_convert))\n",
        "\n",
        "num_float = float(num)\n",
        "print(\"num_float\", num_float)"
      ],
      "metadata": {
        "colab": {
          "base_uri": "https://localhost:8080/"
        },
        "id": "f5IBkmPuMYFx",
        "outputId": "4bfb67bf-2922-4fb5-890a-500932a6522a"
      },
      "execution_count": null,
      "outputs": [
        {
          "output_type": "stream",
          "name": "stdout",
          "text": [
            "x <class 'int'>\n",
            "nome <class 'str'>\n",
            "num <class 'str'>\n",
            "num_conver <class 'int'>\n",
            "num_float 100.0\n"
          ]
        }
      ]
    },
    {
      "cell_type": "markdown",
      "source": [
        "Input\n",
        "\n",
        "* Armazenamento a informação digitada pelo usuário  em uma variável\n",
        "\n",
        "* o dado armazenamento sempre será um texto"
      ],
      "metadata": {
        "id": "0l-fcWuSOwNT"
      }
    },
    {
      "cell_type": "code",
      "source": [
        "nome =  input(\"Digite o nome do usuário \") # Aguarde o usuário digitar  algo\n",
        "print(nome)"
      ],
      "metadata": {
        "id": "S4TiiTRZO0aC"
      },
      "execution_count": null,
      "outputs": []
    },
    {
      "cell_type": "code",
      "source": [
        "valor = input(\"Digite a nota\")\n",
        "print(nome,\"sua nota foi\", valor )"
      ],
      "metadata": {
        "id": "hu6HqhI7QRqS"
      },
      "execution_count": null,
      "outputs": []
    },
    {
      "cell_type": "code",
      "source": [
        "valor = input(\"Digite o valor do produto: \")\n",
        "print(valor)"
      ],
      "metadata": {
        "id": "Xx2vOMlIQ5oj"
      },
      "execution_count": null,
      "outputs": []
    },
    {
      "cell_type": "code",
      "source": [
        "desconto = valor - 5"
      ],
      "metadata": {
        "id": "6-MSP8-9SOWB"
      },
      "execution_count": null,
      "outputs": []
    },
    {
      "cell_type": "code",
      "source": [
        "valor_convet = int(valor)\n",
        "\n",
        "desconto = valor_convet - 5\n",
        "print(desconto)"
      ],
      "metadata": {
        "id": "7yPNPt_uSeEg"
      },
      "execution_count": null,
      "outputs": []
    },
    {
      "cell_type": "code",
      "source": [
        "Desconto = valor_convet - 5\n",
        "print(desconto)"
      ],
      "metadata": {
        "id": "BPofIa82TIxw"
      },
      "execution_count": null,
      "outputs": []
    },
    {
      "cell_type": "markdown",
      "source": [
        "#Estrutura  condicionado\n",
        "\n",
        "##condicional"
      ],
      "metadata": {
        "id": "_mHMbCaQUYqq"
      }
    },
    {
      "cell_type": "code",
      "source": [
        "# If\n",
        "if 5 < 10:\n",
        "  print(\"Verdade\")"
      ],
      "metadata": {
        "id": "VTr6IApKXKaj"
      },
      "execution_count": null,
      "outputs": []
    },
    {
      "cell_type": "code",
      "source": [
        "# If/else\n",
        "num1 = 10\n",
        "num2 = 5\n",
        "if num1 > num2:\n",
        "  print(\"O num1 é  o maior número\")\n",
        "\n",
        "else:\n",
        "    print(\"O num2 é o maior número\")\n"
      ],
      "metadata": {
        "colab": {
          "base_uri": "https://localhost:8080/"
        },
        "id": "HRx0oi_SXK0q",
        "outputId": "3224f54b-96d8-42c5-856b-184a75b12eb3"
      },
      "execution_count": null,
      "outputs": [
        {
          "output_type": "stream",
          "name": "stdout",
          "text": [
            "O num1 é  o maior número\n"
          ]
        }
      ]
    },
    {
      "cell_type": "code",
      "source": [
        "# If / Elif / Eslse\n",
        "num1 = 10\n",
        "num2 = 10\n",
        "if num1 > num2:\n",
        "  print(\"O num1 é o maior número\")\n",
        "elif num1 < num2:\n",
        "  print(\"O num2 é o maior número\")\n",
        "\n",
        "else:\n",
        "  print(\"Os doi são iguais\")"
      ],
      "metadata": {
        "colab": {
          "base_uri": "https://localhost:8080/"
        },
        "id": "nwUmXLouXPww",
        "outputId": "75190c96-4fa2-4357-cd30-1fb0a47748d9"
      },
      "execution_count": null,
      "outputs": [
        {
          "output_type": "stream",
          "name": "stdout",
          "text": [
            "Os doi são iguais\n"
          ]
        }
      ]
    },
    {
      "cell_type": "markdown",
      "source": [
        "#Condicional com operadores lógicos"
      ],
      "metadata": {
        "id": "NJGvSNKQXSH4"
      }
    },
    {
      "cell_type": "code",
      "source": [
        "num1 = 10\n",
        "num2 = 5\n",
        "num3 = 2\n",
        "if (num1 > num2) and (num1 > num3):\n",
        "  print(\"o num1 é o maior número\")\n",
        "else :\n",
        "  print(\"o num1 não é o maior ´numero\")"
      ],
      "metadata": {
        "colab": {
          "base_uri": "https://localhost:8080/"
        },
        "id": "N1KtVOntZCmQ",
        "outputId": "523d20a2-e0b9-4fdb-dafe-77ce2df6d8cb"
      },
      "execution_count": null,
      "outputs": [
        {
          "output_type": "stream",
          "name": "stdout",
          "text": [
            "o num1 é o maior número\n"
          ]
        }
      ]
    },
    {
      "cell_type": "markdown",
      "source": [
        "# Lista de vslores , tuplas e dicionários\n"
      ],
      "metadata": {
        "id": "8XCU5_hFwxKi"
      }
    },
    {
      "cell_type": "code",
      "source": [
        "#lisata\n",
        "[1,2,3,4,5]"
      ],
      "metadata": {
        "colab": {
          "base_uri": "https://localhost:8080/"
        },
        "id": "xwexR2SNxF-9",
        "outputId": "8e02a816-f746-4732-bde9-705244138a12"
      },
      "execution_count": null,
      "outputs": [
        {
          "output_type": "execute_result",
          "data": {
            "text/plain": [
              "[1, 2, 3, 4, 5]"
            ]
          },
          "metadata": {},
          "execution_count": 81
        }
      ]
    },
    {
      "cell_type": "code",
      "source": [
        "# Tupla\n",
        "(1,2,3,4,5)"
      ],
      "metadata": {
        "colab": {
          "base_uri": "https://localhost:8080/"
        },
        "id": "FZuxmlEPxPLe",
        "outputId": "6e6befa9-9c03-46a3-81eb-9b5013d32d00"
      },
      "execution_count": null,
      "outputs": [
        {
          "output_type": "execute_result",
          "data": {
            "text/plain": [
              "(1, 2, 3, 4, 5)"
            ]
          },
          "metadata": {},
          "execution_count": 82
        }
      ]
    },
    {
      "cell_type": "code",
      "source": [
        "# Dicionário\n",
        "{\"num1\":1, \"num2\": 2}"
      ],
      "metadata": {
        "colab": {
          "base_uri": "https://localhost:8080/"
        },
        "id": "Xe4IsIaqxXg8",
        "outputId": "8f17fd6f-f9d5-4f57-80bb-8a40a2ecbc8d"
      },
      "execution_count": null,
      "outputs": [
        {
          "output_type": "execute_result",
          "data": {
            "text/plain": [
              "{'num1': 1, 'num2': 2}"
            ]
          },
          "metadata": {},
          "execution_count": 88
        }
      ]
    },
    {
      "cell_type": "markdown",
      "source": [
        "#Lista"
      ],
      "metadata": {
        "id": "iG5iqvVjxvue"
      }
    },
    {
      "cell_type": "code",
      "source": [
        "lista = [5, \"Felipe\", 8.9]"
      ],
      "metadata": {
        "id": "JcCepQpxyAkL"
      },
      "execution_count": null,
      "outputs": []
    },
    {
      "cell_type": "code",
      "source": [
        "type(lista)"
      ],
      "metadata": {
        "colab": {
          "base_uri": "https://localhost:8080/"
        },
        "id": "Z7HeC0-RydjF",
        "outputId": "6d789b70-93d6-40d6-c6c2-8e292cabad70"
      },
      "execution_count": null,
      "outputs": [
        {
          "output_type": "execute_result",
          "data": {
            "text/plain": [
              "list"
            ]
          },
          "metadata": {},
          "execution_count": 109
        }
      ]
    },
    {
      "cell_type": "code",
      "source": [
        "lista.append(\"Augusto\") # Adcionar um elemento na lista"
      ],
      "metadata": {
        "id": "lNho2Xssyk7d"
      },
      "execution_count": null,
      "outputs": []
    },
    {
      "cell_type": "code",
      "source": [
        "print(lista)\n",
        "print(lista[1])"
      ],
      "metadata": {
        "colab": {
          "base_uri": "https://localhost:8080/"
        },
        "id": "7K0TyHfKzWiE",
        "outputId": "3d3eef18-2cb9-4516-b692-49eddc10714c"
      },
      "execution_count": null,
      "outputs": [
        {
          "output_type": "stream",
          "name": "stdout",
          "text": [
            "[5, 'Felipe', 8.9, 'Augusto', 'Augusto', 'Augusto', 'Augusto']\n",
            "Felipe\n"
          ]
        }
      ]
    },
    {
      "cell_type": "markdown",
      "source": [
        "#Tupla"
      ],
      "metadata": {
        "id": "FOzqmE3Wxyqj"
      }
    },
    {
      "cell_type": "code",
      "source": [
        "tupla = (5, \"Felipe, 8.9\")"
      ],
      "metadata": {
        "id": "ofkD0rRVz9YW"
      },
      "execution_count": null,
      "outputs": []
    },
    {
      "cell_type": "code",
      "source": [
        "type(tupla)"
      ],
      "metadata": {
        "colab": {
          "base_uri": "https://localhost:8080/"
        },
        "id": "Ms5DH-3T0NJd",
        "outputId": "a817b3ca-d81c-4746-b690-b59c3a159261"
      },
      "execution_count": null,
      "outputs": [
        {
          "output_type": "execute_result",
          "data": {
            "text/plain": [
              "tuple"
            ]
          },
          "metadata": {},
          "execution_count": 139
        }
      ]
    },
    {
      "cell_type": "code",
      "source": [
        "tupla.append(\"Augusto\")"
      ],
      "metadata": {
        "id": "j5rp85XE0Zsa"
      },
      "execution_count": null,
      "outputs": []
    },
    {
      "cell_type": "code",
      "source": [
        "print(tupla)"
      ],
      "metadata": {
        "colab": {
          "base_uri": "https://localhost:8080/"
        },
        "id": "UZpbgZUA0p0M",
        "outputId": "a7c932cf-9bcb-43e1-f26a-5c4a5947589a"
      },
      "execution_count": null,
      "outputs": [
        {
          "output_type": "stream",
          "name": "stdout",
          "text": [
            "(5, 'Felipe, 8.9')\n"
          ]
        }
      ]
    },
    {
      "cell_type": "markdown",
      "source": [
        "#Dicionário"
      ],
      "metadata": {
        "id": "4ybnko-Ex2r2"
      }
    },
    {
      "cell_type": "code",
      "source": [
        "dicionario ={\"nome\": \"Felipe\",\"cidade\": \"São josé dps Campos\"}"
      ],
      "metadata": {
        "id": "jrFL3-Xz01z6"
      },
      "execution_count": null,
      "outputs": []
    },
    {
      "cell_type": "code",
      "source": [
        "type(dicionario)"
      ],
      "metadata": {
        "colab": {
          "base_uri": "https://localhost:8080/"
        },
        "id": "TMi2Qb6Y1Q8v",
        "outputId": "6a17cd98-63a8-4e2a-9cfd-6ad572da115d"
      },
      "execution_count": null,
      "outputs": [
        {
          "output_type": "execute_result",
          "data": {
            "text/plain": [
              "dict"
            ]
          },
          "metadata": {},
          "execution_count": 143
        }
      ]
    },
    {
      "cell_type": "code",
      "source": [
        "print(dicionario)"
      ],
      "metadata": {
        "colab": {
          "base_uri": "https://localhost:8080/"
        },
        "id": "3M-Puabc1Vv1",
        "outputId": "5b646fbb-a0cf-4c72-e072-262515d24833"
      },
      "execution_count": null,
      "outputs": [
        {
          "output_type": "stream",
          "name": "stdout",
          "text": [
            "{'nome': 'Felipe', 'cidade': 'São josé dps Campos'}\n"
          ]
        }
      ]
    },
    {
      "cell_type": "code",
      "source": [
        "print(dicionario[\"nome\"])"
      ],
      "metadata": {
        "colab": {
          "base_uri": "https://localhost:8080/"
        },
        "id": "UowqyhbD1aoM",
        "outputId": "0c03abc4-bb9a-431a-9403-61d878a838b1"
      },
      "execution_count": null,
      "outputs": [
        {
          "output_type": "stream",
          "name": "stdout",
          "text": [
            "Felipe\n"
          ]
        }
      ]
    },
    {
      "cell_type": "code",
      "source": [
        "dicionario[\"ultimo_nome\"] = \"rebouças\""
      ],
      "metadata": {
        "id": "el1gNe4f1kZm"
      },
      "execution_count": null,
      "outputs": []
    },
    {
      "cell_type": "code",
      "source": [
        "print(dicionario)"
      ],
      "metadata": {
        "colab": {
          "base_uri": "https://localhost:8080/"
        },
        "id": "BSVqEhpe1yUc",
        "outputId": "d56a15b7-fd9a-4c5e-d093-94d0e8efc88d"
      },
      "execution_count": null,
      "outputs": [
        {
          "output_type": "stream",
          "name": "stdout",
          "text": [
            "{'nome': 'Felipe', 'cidade': 'São josé dps Campos', 'ultimo_nome': 'rebouças'}\n"
          ]
        }
      ]
    },
    {
      "cell_type": "markdown",
      "source": [
        "# Estrutura de repetição"
      ],
      "metadata": {
        "id": "zHKTGrM-24-E"
      }
    },
    {
      "cell_type": "markdown",
      "source": [
        "##For"
      ],
      "metadata": {
        "id": "j8AvW-l63eGF"
      }
    },
    {
      "cell_type": "code",
      "source": [
        "# for Rage\n",
        "for contador in range(10):\n",
        "  print(contador)"
      ],
      "metadata": {
        "colab": {
          "base_uri": "https://localhost:8080/"
        },
        "id": "CZdbfBOU3cIW",
        "outputId": "5d78571f-f500-44d0-ec13-59b099e16da3"
      },
      "execution_count": null,
      "outputs": [
        {
          "output_type": "stream",
          "name": "stdout",
          "text": [
            "0\n",
            "1\n",
            "2\n",
            "3\n",
            "4\n",
            "5\n",
            "6\n",
            "7\n",
            "8\n",
            "9\n"
          ]
        }
      ]
    },
    {
      "cell_type": "code",
      "source": [
        "# for Renge + Break\n",
        "for contador in range(1000):\n",
        "  print(contador)\n",
        "  if contador == 8:\n",
        "    break"
      ],
      "metadata": {
        "colab": {
          "base_uri": "https://localhost:8080/"
        },
        "id": "IWysuQOK41S9",
        "outputId": "c65bb5c4-b947-4f05-ef13-988a46174e3d"
      },
      "execution_count": null,
      "outputs": [
        {
          "output_type": "stream",
          "name": "stdout",
          "text": [
            "0\n",
            "1\n",
            "2\n",
            "3\n",
            "4\n",
            "5\n",
            "6\n",
            "7\n",
            "8\n"
          ]
        }
      ]
    },
    {
      "cell_type": "code",
      "source": [
        "lista = [ \"Teste1\",\"Teste2\"]"
      ],
      "metadata": {
        "id": "FFLQ18Fr5kZF"
      },
      "execution_count": null,
      "outputs": []
    },
    {
      "cell_type": "code",
      "source": [
        "# For Simples\n",
        "for val in lista:\n",
        "  print(val)"
      ],
      "metadata": {
        "colab": {
          "base_uri": "https://localhost:8080/"
        },
        "id": "tJLce6Ql4Nqj",
        "outputId": "4aba7020-4276-416a-ce5a-91732cc7b72e"
      },
      "execution_count": null,
      "outputs": [
        {
          "output_type": "stream",
          "name": "stdout",
          "text": [
            "Teste1\n",
            "Teste2\n"
          ]
        }
      ]
    },
    {
      "cell_type": "code",
      "source": [
        "# for com Enumerate\n",
        "for i, val in enumerate(lista):\n",
        "  print(i, val )"
      ],
      "metadata": {
        "colab": {
          "base_uri": "https://localhost:8080/"
        },
        "id": "wQ2sVgsG5_Xc",
        "outputId": "b313e1e6-b8fa-4b5d-9364-2bf132c1442a"
      },
      "execution_count": null,
      "outputs": [
        {
          "output_type": "stream",
          "name": "stdout",
          "text": [
            "0 Teste1\n",
            "1 Teste2\n"
          ]
        }
      ]
    },
    {
      "cell_type": "markdown",
      "source": [
        "## For com operadores compostos"
      ],
      "metadata": {
        "id": "9vbBiHtk6yrb"
      }
    },
    {
      "cell_type": "code",
      "source": [
        "lista2 = [2,3,4]"
      ],
      "metadata": {
        "id": "yWPP1_Xm6x3x"
      },
      "execution_count": null,
      "outputs": []
    },
    {
      "cell_type": "code",
      "source": [
        "for val in lista2:\n",
        "  val +=1\n",
        "  print(val)"
      ],
      "metadata": {
        "colab": {
          "base_uri": "https://localhost:8080/"
        },
        "id": "p5w8QKXv7E4G",
        "outputId": "3b9f2c85-0d2d-4647-92e8-f80ce684acf3"
      },
      "execution_count": null,
      "outputs": [
        {
          "output_type": "stream",
          "name": "stdout",
          "text": [
            "3\n",
            "4\n",
            "5\n"
          ]
        }
      ]
    },
    {
      "cell_type": "code",
      "source": [
        "for val in lista2:\n",
        "  val*= 2\n",
        "  print(val)"
      ],
      "metadata": {
        "colab": {
          "base_uri": "https://localhost:8080/"
        },
        "id": "sultrsdl7SUj",
        "outputId": "ca3a9e8d-54ae-4e29-edf9-7dcd5c69cd7c"
      },
      "execution_count": null,
      "outputs": [
        {
          "output_type": "stream",
          "name": "stdout",
          "text": [
            "4\n",
            "6\n",
            "8\n"
          ]
        }
      ]
    },
    {
      "cell_type": "markdown",
      "source": [
        "##While"
      ],
      "metadata": {
        "id": "vSexlOE-7tpN"
      }
    },
    {
      "cell_type": "code",
      "source": [
        "val = 1\n",
        "while (val < 6):\n",
        "  val *=2\n",
        "  print(val)"
      ],
      "metadata": {
        "colab": {
          "base_uri": "https://localhost:8080/"
        },
        "id": "_XFzLHdp7rgc",
        "outputId": "8cb40da5-f776-44f6-c338-33ef54394823"
      },
      "execution_count": null,
      "outputs": [
        {
          "output_type": "stream",
          "name": "stdout",
          "text": [
            "2\n",
            "4\n",
            "8\n"
          ]
        }
      ]
    },
    {
      "cell_type": "code",
      "source": [
        "#Whale com else\n",
        "val = 10\n",
        "while val < 6:\n",
        "  val*=2\n",
        "else:\n",
        "    print(\"Valor de val é:\", val)"
      ],
      "metadata": {
        "colab": {
          "base_uri": "https://localhost:8080/"
        },
        "id": "VZ_EpaxX8RM_",
        "outputId": "f95073e4-3ca2-4ffa-fd3d-4acb50f83dc7"
      },
      "execution_count": null,
      "outputs": [
        {
          "output_type": "stream",
          "name": "stdout",
          "text": [
            "Valor de val é: 10\n"
          ]
        }
      ]
    },
    {
      "cell_type": "markdown",
      "source": [
        "# Olho no codigo"
      ],
      "metadata": {
        "id": "w-vFYJDWNC_1"
      }
    },
    {
      "cell_type": "code",
      "source": [
        "# Obtém o nome do usuário\n",
        "nome = input(\"Digite seu nome:\")\n",
        "print(\"Olá,\"+ nome + \"!\")"
      ],
      "metadata": {
        "colab": {
          "base_uri": "https://localhost:8080/"
        },
        "id": "2c7bluCQPE3l",
        "outputId": "3b03f90d-72e6-4afc-e0be-2a741a513db7"
      },
      "execution_count": null,
      "outputs": [
        {
          "output_type": "stream",
          "name": "stdout",
          "text": [
            "Digite seu nome:Felipe\n",
            "Olá,Felipe!\n"
          ]
        }
      ]
    },
    {
      "cell_type": "markdown",
      "source": [
        "## Verificção de senha simples"
      ],
      "metadata": {
        "id": "LHBPnT0iOv5K"
      }
    },
    {
      "cell_type": "code",
      "source": [
        "# Definir a senha permitida\n",
        "senha_permitida = \"12345\"\n",
        "\n",
        "# Solicitar a senha do usuário\n",
        "senha_Usuario = input (\"Digite a senha \")\n",
        "\n",
        "# Vericar se a senha estaá correta\n",
        "if senha_Usuario == senha_permitida:\n",
        "  print(\"Acessopermitido!\")\n",
        "else:\n",
        "  print(\"Senha incoreeta. Acesso Negado\")"
      ],
      "metadata": {
        "colab": {
          "base_uri": "https://localhost:8080/"
        },
        "id": "ZzLfxK9KNGit",
        "outputId": "99d23048-c936-4b9d-a7c7-d2f7acd544c4"
      },
      "execution_count": null,
      "outputs": [
        {
          "output_type": "stream",
          "name": "stdout",
          "text": [
            "Digite a senha 12345\n",
            "Acessopermitido!\n"
          ]
        }
      ]
    },
    {
      "cell_type": "markdown",
      "source": [
        "# Orgonizando dados de feedback de clientes"
      ],
      "metadata": {
        "id": "UqBJaPBwQncP"
      }
    },
    {
      "cell_type": "code",
      "source": [
        "# Lista de feedbacks\n",
        "feedbacks = [\"Ótimo serviço!\",\"Produto excelente\",\"Atendimento rápido\" ]\n",
        "\n",
        "# Dicionário com informações de um cliente\n",
        "Cliente = {\n",
        "    \"nome\": \"Maria\",\n",
        "    \"idade\": 28,\n",
        "    \"feedback\": \"Muito satisfeito\"\n",
        "  }\n",
        "\n",
        "# Imprimi  os feedbacks da lista\n",
        "print(\"Feedbacks dos clientes:\")\n",
        "for feedback in feedbacks:\n",
        "  print(\"- \" + feedback )\n",
        "\n",
        "  # Imprimir informações  de cliente\n",
        "  print(\"\\ninformações do cliente\")\n",
        "  print(\"Nome:\",  Cliente[\"nome\"])\n",
        "  print(\"Idade:\", Cliente[\"idade\"])\n",
        "  print(\"Feedback:\", Cliente[\"feedback\"])"
      ],
      "metadata": {
        "colab": {
          "base_uri": "https://localhost:8080/"
        },
        "id": "tHq_AEp3Q_Vt",
        "outputId": "6e6f77c4-2c88-4b0f-db42-2179e2c31ba6"
      },
      "execution_count": null,
      "outputs": [
        {
          "output_type": "stream",
          "name": "stdout",
          "text": [
            "Feedbacks dos clientes:\n",
            "- Ótimo serviço!\n",
            "\n",
            "informações do cliente\n",
            "Nome: Maria\n",
            "Idade: 28\n",
            "Feedback: Muito satisfeito\n",
            "- Produto excelente\n",
            "\n",
            "informações do cliente\n",
            "Nome: Maria\n",
            "Idade: 28\n",
            "Feedback: Muito satisfeito\n",
            "- Atendimento rápido\n",
            "\n",
            "informações do cliente\n",
            "Nome: Maria\n",
            "Idade: 28\n",
            "Feedback: Muito satisfeito\n"
          ]
        }
      ]
    },
    {
      "cell_type": "code",
      "source": [
        "# Loop whaile\n",
        "\n",
        "contador = 0\n",
        "while contador < 5:\n",
        "  print(\"Isso é a iteração número\", contador)\n",
        "  contador += 1"
      ],
      "metadata": {
        "colab": {
          "base_uri": "https://localhost:8080/"
        },
        "id": "vV7UoEeFVi2Q",
        "outputId": "976a2043-62cc-4fd9-85c5-797d7d88f6b6"
      },
      "execution_count": null,
      "outputs": [
        {
          "output_type": "stream",
          "name": "stdout",
          "text": [
            "Isso é a iteração número 0\n",
            "Isso é a iteração número 1\n",
            "Isso é a iteração número 2\n",
            "Isso é a iteração número 3\n",
            "Isso é a iteração número 4\n"
          ]
        }
      ]
    },
    {
      "cell_type": "code",
      "source": [
        "# Loop for\n",
        "\n",
        "frutas = [\"maçã\", \"banana\", \"laranja\"]\n",
        "for fruta in frutas:\n",
        "  print(\"Eu gosto de\", fruta)"
      ],
      "metadata": {
        "colab": {
          "base_uri": "https://localhost:8080/"
        },
        "id": "0ThisZTRXE0C",
        "outputId": "0f43fa1a-f1e4-40dc-9af8-dbedb6a04755"
      },
      "execution_count": null,
      "outputs": [
        {
          "output_type": "stream",
          "name": "stdout",
          "text": [
            "Eu gosto de maçã\n",
            "Eu gosto de banana\n",
            "Eu gosto de laranja\n"
          ]
        }
      ]
    },
    {
      "cell_type": "code",
      "source": [
        "# Lista de notas dos alunos\n",
        "notas = [86, 92, 78, 88]\n",
        "\n",
        "# Calcula a média das notas\n",
        "soma = 0\n",
        "for nota in notas:\n",
        "  soma += nota\n",
        "media = soma / len(notas)\n",
        "\n",
        "# Classifica os alunas com base na média\n",
        "alunos_aprovados = []\n",
        "alunos_reprovados = []\n",
        "\n",
        "for nota in notas:\n",
        "  if nota >= media:\n",
        "    alunos_aprovados.append(nota)\n",
        "  else:\n",
        "    alunos_reprovados.append(nota)\n",
        "\n",
        "    # Imprime os reultados\n",
        "    print(\"Notas das alunos:\", notas)\n",
        "    print(\"Média das notas:\", media)\n",
        "    print(\"Alunos aprovados:\", alunos_aprovados)\n",
        "    print(\"Alunos Reprovados:\", alunos_reprovados)\n"
      ],
      "metadata": {
        "id": "WZBFemB5YL3O",
        "colab": {
          "base_uri": "https://localhost:8080/"
        },
        "outputId": "425cc091-16a4-431d-9761-51abe72a2c69"
      },
      "execution_count": null,
      "outputs": [
        {
          "output_type": "stream",
          "name": "stdout",
          "text": [
            "Notas das alunos: [86, 92, 78, 88]\n",
            "Média das notas: 86.0\n",
            "Alunos aprovados: [86, 92]\n",
            "Alunos Reprovados: [78]\n"
          ]
        }
      ]
    },
    {
      "cell_type": "code",
      "source": [
        "# Solicita o nome do usuário e o exibe\n",
        "nome_usuario = input(\"Por favor, insira seu nome: \")\n",
        "print(f\"Olá, {nome_usuario}! Bem-vindo ao nosso sistema.\")\n",
        "\n",
        "# Solicita a idade do usuário e converte para inteiro\n",
        "idade_usuario = int(input(\"Por favor, insira sua idade: \"))\n",
        "\n",
        "# Verifica se o usuário é maior de idade\n",
        "if idade_usuario >= 18:\n",
        "    print(\"Você é maior de idade.\")\n",
        "else:\n",
        "    print(\"Você é menor de idade.\")"
      ],
      "metadata": {
        "id": "eT5uz4l1dUwO"
      },
      "execution_count": null,
      "outputs": []
    },
    {
      "cell_type": "code",
      "source": [
        "idade = int(input(\"Digite sua idade: \"))\n",
        "if idade > 18:\n",
        "    print(\"Maior de idade\")\n"
      ],
      "metadata": {
        "id": "OVjS2VVjfjxu"
      },
      "execution_count": null,
      "outputs": []
    },
    {
      "cell_type": "code",
      "source": [
        "x = 10\n",
        "if x == 10:\n",
        "    print(\"Operador correto\")"
      ],
      "metadata": {
        "colab": {
          "base_uri": "https://localhost:8080/"
        },
        "id": "dCnCa1lufxWv",
        "outputId": "1004b0e3-fc88-4a43-b165-b5aacfd5ccef"
      },
      "execution_count": null,
      "outputs": [
        {
          "output_type": "stream",
          "name": "stdout",
          "text": [
            "Operador correto\n"
          ]
        }
      ]
    },
    {
      "cell_type": "code",
      "source": [
        "total = 1\n",
        "total = total + 8\n",
        "print(total)\n"
      ],
      "metadata": {
        "colab": {
          "base_uri": "https://localhost:8080/"
        },
        "id": "EhfeJHQAgJSC",
        "outputId": "056ab3a2-11a7-4846-ee1c-34042b22c12c"
      },
      "execution_count": null,
      "outputs": [
        {
          "output_type": "stream",
          "name": "stdout",
          "text": [
            "9\n"
          ]
        }
      ]
    },
    {
      "cell_type": "code",
      "source": [
        "idade = 20\n",
        "renda = 3000\n",
        "if (idade > 18 and renda > 2000) or idade < 25:\n",
        "    print(\"Aprovado\")\n"
      ],
      "metadata": {
        "colab": {
          "base_uri": "https://localhost:8080/"
        },
        "id": "8o5Rzk4Ggkza",
        "outputId": "93872ff6-d565-4e33-8240-cbbaf2ed38d2"
      },
      "execution_count": null,
      "outputs": [
        {
          "output_type": "stream",
          "name": "stdout",
          "text": [
            "Aprovado\n"
          ]
        }
      ]
    },
    {
      "cell_type": "code",
      "source": [
        "n1 = input(\"Digite o numero \") # Aguarde o numero 1 digitar\n",
        "print(n1)\n",
        "\n",
        "\n",
        "operadores = input(\"Digite o símbolo de operação \") # Aguarde o símbolo de operação digitar\n",
        "print(operadores)\n",
        "\n",
        "\n",
        "n2 = input(\"Digite o numero \") # Aguarde o numero 2 digitar\n",
        "print(n2)\n",
        "\n",
        "# Converter strings em inteiros\n",
        "num1 = int(n1)\n",
        "num2 = int(n2)\n",
        "\n",
        "# Execute a operação com base no operador\n",
        "if operadores == '+':\n",
        "  resultado = num1 + num2\n",
        "elif operadores == '-':\n",
        "  resultado = num1 - num2\n",
        "elif operadores == '*':\n",
        "  resultado = num1 * num2\n",
        "elif operadores == '/':\n",
        "\n",
        "  # Adicione uma verificação para divisão por zero\n",
        "  if num2 != 0:\n",
        "    resultado = num1 / num2\n",
        "  else:\n",
        "    resultado = \"Erro: Divisão por zero!\"\n",
        "else:\n",
        "  resultado = \"Erro: Operador inválido!\"\n",
        "\n",
        "print(\"Resultado \", resultado)\n"
      ],
      "metadata": {
        "colab": {
          "base_uri": "https://localhost:8080/"
        },
        "id": "fpd6XossUR03",
        "outputId": "1455d2a9-4c23-4b13-fc20-f9ee186fd2ed"
      },
      "execution_count": null,
      "outputs": [
        {
          "output_type": "stream",
          "name": "stdout",
          "text": [
            "Digite o numero 50\n",
            "50\n",
            "Digite o símbolo de operação -\n",
            "-\n",
            "Digite o numero 35\n",
            "35\n",
            "Resultado  15\n"
          ]
        }
      ]
    },
    {
      "cell_type": "code",
      "source": [
        "n1 = input(\"Digite o numero \") # Aguarde o numero 1 digitar\n",
        "print(n1)\n",
        "\n",
        "\n",
        "operadores = input(\"Digite o símbolo de operação \") # Aguarde o símbolo de operação digitar\n",
        "print(operadores)\n",
        "\n",
        "\n",
        "n2 = input(\"Digite o numero \") # Aguarde o numero 2 digitar\n",
        "print(n2)\n",
        "\n",
        "# Converter strings em inteiros\n",
        "num1 = int(n1)\n",
        "num2 = int(n2)\n",
        "\n",
        "# Execute a operação com base no operador\n",
        "if operadores == '+':\n",
        "  resultado = num1 + num2\n",
        "elif operadores == '-':\n",
        "  resultado = num1 - num2\n",
        "elif operadores == '*':\n",
        "  resultado = num1 * num2\n",
        "elif operadores == '/':\n",
        "\n",
        "  # Adicione uma verificação para divisão por zero\n",
        "  if num2 != 0:\n",
        "    resultado = num1 / num2\n",
        "  else:\n",
        "    resultado = \"Erro: Divisão por zero!\"\n",
        "else:\n",
        "  resultado = \"Erro: Operador inválido!\"\n",
        "\n",
        "print(\"Resultado \", resultado)\n"
      ],
      "metadata": {
        "colab": {
          "base_uri": "https://localhost:8080/"
        },
        "id": "1oU5Gm2gyLcY",
        "outputId": "3492e1ad-67ae-4b0d-b94f-71b06b609e29"
      },
      "execution_count": null,
      "outputs": [
        {
          "output_type": "stream",
          "name": "stdout",
          "text": [
            "Digite o numero 9\n",
            "9\n",
            "Digite o símbolo de operação -\n",
            "-\n",
            "Digite o numero 46\n",
            "46\n",
            "Resultado  -37\n"
          ]
        }
      ]
    },
    {
      "cell_type": "markdown",
      "source": [
        "# Divisor"
      ],
      "metadata": {
        "id": "i22J459HzO4m"
      }
    },
    {
      "cell_type": "code",
      "source": [
        "# Saber ser numeros r divisor!\n",
        "\n",
        "\n",
        "valor1 = input(\"Digite o número \")\n",
        "print(valor1)\n",
        "valor2 = input(\"Digite o número \")\n",
        "print(valor2)\n",
        "\n",
        "valor1 = int(valor1)\n",
        "valor2 = int(valor2)\n",
        "\n",
        "if valor1 > valor2:\n",
        "  resto = valor1 % valor2\n",
        "  if resto == 0:\n",
        "\n",
        "   print(\"O\", valor2, \"é um divisor de\", valor1)\n",
        "\n",
        "  else:\n",
        "    print(\"O\", valor2, \"não é um divisor de\", valor1)\n",
        "\n",
        "  print(\"O\", valor1, \"é  o maior número\")\n",
        "\n",
        "elif valor1 < valor2:\n",
        "  resto = valor2 % valor1\n",
        "  if resto == 0:\n",
        "    print(\"O\", valor1, \"é um divisor de\", valor2)\n",
        "\n",
        "\n",
        "\n"
      ],
      "metadata": {
        "colab": {
          "base_uri": "https://localhost:8080/"
        },
        "id": "6J1YTJAbFT02",
        "outputId": "d5d1d0e1-15bd-4756-d52f-3bfae0d52612"
      },
      "execution_count": null,
      "outputs": [
        {
          "output_type": "stream",
          "name": "stdout",
          "text": [
            "Digite o número 16\n",
            "16\n",
            "Digite o número 4\n",
            "4\n",
            "O 4 é um divisor de 16\n",
            "O 16 é  o maior número\n"
          ]
        }
      ]
    },
    {
      "cell_type": "markdown",
      "source": [
        "#Cotação do dolar hoje"
      ],
      "metadata": {
        "id": "BQp4KHu89afh"
      }
    },
    {
      "cell_type": "code",
      "source": [
        "# converter dolar em reasis\n",
        "\n",
        "# hoje 22/07/2025 dolar = 5.56\n",
        "\n",
        "saber = input(\"você que saber o valor do dolar hoje ou do real?\")\n",
        "print(saber)\n",
        "\n",
        "\n",
        "\n",
        "dolar = input(\"Digite a cotação do dolar hoje: \")\n",
        "real = input(\"Digite o quanto em dolor você tem: \")\n",
        "\n",
        "dolar = float(dolar)\n",
        "real = float(real)\n",
        "saber = str(saber)\n",
        "\n",
        "resultado = 0\n",
        "\n",
        "if saber == \"dolar\":\n",
        "  resultado = real * dolar\n",
        "\n",
        "elif saber == \"real\":\n",
        "  resultado = real * dolar\n",
        "\n",
        "else: print(\"Resultado\",resultado )\n",
        "\n",
        "\n"
      ],
      "metadata": {
        "colab": {
          "base_uri": "https://localhost:8080/"
        },
        "id": "Px1j3THN9ZTo",
        "outputId": "4b93c281-c26c-4ec7-b976-7bbc8ae9d959"
      },
      "execution_count": null,
      "outputs": [
        {
          "name": "stdout",
          "output_type": "stream",
          "text": [
            "você que saber o valor do dolar hoje ou do real?real\n",
            "real\n",
            "Digite a cotação do dolar hoje: 5\n",
            "Digite o quanto em dolor você tem: 5\n"
          ]
        }
      ]
    },
    {
      "cell_type": "code",
      "source": [
        "# converter dolar em reasis\n",
        "\n",
        "# hoje 22/07/2025 dolar = 5.56\n",
        "\n",
        "dolar = 0\n",
        "real = 0\n",
        "cotacaoDolar = 0\n",
        "\n",
        "print(\"se vocês quer converter  de  Real para Dólar, digite 1 ou 2\")\n",
        "resposta = int(input(\"Digite a opção: \"))\n",
        "print(resposta)\n",
        "\n",
        "\n",
        "if resposta == 1:\n",
        "  print(\"Vamos converter de Real para Dólar\")\n",
        "  dolar = float(input(\"Digite a cotação do Dólar hoje: \"))\n",
        "  real = float(input(\"Digite o quanto em Real você tem: \"))\n",
        "  dolar = dolar * real\n",
        "  print(\"Você tem\", dolar, \"dólares\")\n",
        "\n",
        "elif resposta == 2:\n",
        "  print(\"Vamos converter de Dólar para Real\")\n",
        "  real = float(input(\"Digite a cotação do Dólar hoje: \"))\n",
        "  dolar = float(input(\"Digite o quanto em Dólar você tem: \"))\n",
        "  real = dolar / real\n",
        "  print(\"Você tem\", real, \"reais\")\n",
        "\n",
        "\n",
        "else:\n",
        "  print(\"Opção inválida\")\n",
        "\n",
        "\n",
        "\n",
        "\n",
        "\n"
      ],
      "metadata": {
        "colab": {
          "base_uri": "https://localhost:8080/"
        },
        "id": "-TSTeN1AlRWT",
        "outputId": "92d825a1-050c-4a8b-e3ac-4ab63290aa1a"
      },
      "execution_count": null,
      "outputs": [
        {
          "output_type": "stream",
          "name": "stdout",
          "text": [
            "se vocês quer converter  de  Real para Dólar, digite 1 ou 2\n",
            "Digite a opção: 1\n",
            "1\n",
            "Vamos converter de Real para Dólar\n",
            "Digite a cotação do Dólar hoje: 5\n",
            "Digite o quanto em Real você tem: 6\n",
            "Você tem 30.0 dólares\n"
          ]
        }
      ]
    },
    {
      "cell_type": "markdown",
      "source": [
        "\n",
        "\n",
        "```\n",
        "# Isto está formatado como código\n",
        "```\n",
        "\n",
        "# É par ou inpar"
      ],
      "metadata": {
        "id": "D5Nqk82b8IcY"
      }
    },
    {
      "cell_type": "code",
      "source": [],
      "metadata": {
        "id": "Pd62AZ1H8HM9"
      },
      "execution_count": null,
      "outputs": []
    },
    {
      "cell_type": "code",
      "source": [
        " # informações iniciais\n",
        "\n",
        "print(\"Caculadora\")\n",
        "print(\"Vou te ajudar, vamos começar\")\n",
        "\n",
        "nome = input(\"Qual o seu nome? \")\n",
        "print(\"Olá \", nome)\n",
        "\n",
        "  # Solicita os números e o operador\n",
        "\n",
        "n1 = input(\"Digite o primeiro número: \")\n",
        "operador = input(\"Digite o símbolo de operação (+, -, *, /, %): \")\n",
        "n2 = input(\"Digite o segundo número: \")\n",
        "\n",
        "  # Converter strings em inteiros\n",
        "\n",
        "num1 = float(n1)\n",
        "num2 = float(n2)\n",
        "\n",
        "  # Executa a operação com base no operador\n",
        "\n",
        "if operador == '+':\n",
        "  resultado = num1 + num2\n",
        "elif operador == '-':\n",
        "  resultado = num1 - num2\n",
        "elif operador == '*':\n",
        "  resultado = num1 * num2\n",
        "elif operador == '/':\n",
        "  if num2 != 0:\n",
        "    resultado = num1 / num2\n",
        "  else:\n",
        "    resultado = \"Erro: Divisão por zero!\"\n",
        "elif operador == '%':\n",
        "  if num2 != 0:\n",
        "    resultado1 = num1 * num2\n",
        "    resultado = resultado1  / 100\n",
        "  else:\n",
        "    resultado = \"Erro: Módulo por zero!\"\n",
        "else:\n",
        "    resultado = \"Erro: Operador inválido!\"\n",
        "\n",
        "  # Executa de resultado final\n",
        "\n",
        "print(nome,\"Resultado:\", resultado)"
      ],
      "metadata": {
        "colab": {
          "base_uri": "https://localhost:8080/"
        },
        "id": "-iIklw4fOTvp",
        "outputId": "f4c5fd5e-ddc6-4452-e65e-3c628ee95c25"
      },
      "execution_count": null,
      "outputs": [
        {
          "output_type": "stream",
          "name": "stdout",
          "text": [
            "Caculadora\n",
            "Vou te ajudar, vamos começar\n",
            "Qual o seu nome? fe\n",
            "Olá  fe\n"
          ]
        }
      ]
    }
  ]
}